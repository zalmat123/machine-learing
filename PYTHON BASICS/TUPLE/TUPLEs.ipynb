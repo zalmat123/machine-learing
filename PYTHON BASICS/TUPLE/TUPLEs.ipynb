{
  "nbformat": 4,
  "nbformat_minor": 0,
  "metadata": {
    "colab": {
      "name": "TUPLEs",
      "provenance": [],
      "collapsed_sections": []
    },
    "kernelspec": {
      "name": "python3",
      "display_name": "Python 3"
    },
    "language_info": {
      "name": "python"
    }
  },
  "cells": [
    {
      "cell_type": "code",
      "source": [
        "tuple_001 = (\"misrak\",\"fitsum\",\"selemon\",\"dawit\")"
      ],
      "metadata": {
        "id": "kkERzagoAbDe"
      },
      "execution_count": null,
      "outputs": []
    },
    {
      "cell_type": "markdown",
      "source": [
        "Tuples:\n",
        "\n",
        "\n",
        "> Used to store a multiple items in a single variable\n",
        "\n",
        "\n",
        "> Tuple is a collections which is ordered and unchangeable\n",
        "\n",
        "> Tuples are written with round brackets\n",
        "\n",
        "\n",
        "\n",
        "\n",
        "\n"
      ],
      "metadata": {
        "id": "aFhwJmTOBlpw"
      }
    },
    {
      "cell_type": "code",
      "source": [
        "tuple_001"
      ],
      "metadata": {
        "colab": {
          "base_uri": "https://localhost:8080/"
        },
        "id": "IRj0OoCbBSZK",
        "outputId": "1642e162-0ddb-46aa-f2d1-e117ecd369f9"
      },
      "execution_count": null,
      "outputs": [
        {
          "output_type": "execute_result",
          "data": {
            "text/plain": [
              "('misrak', 'fitsum', 'selemon', 'dawit')"
            ]
          },
          "metadata": {},
          "execution_count": 3
        }
      ]
    },
    {
      "cell_type": "markdown",
      "source": [
        "Tuples items:\n",
        "\n",
        "\n",
        "*   Ordered and unchangeable\n",
        "*   Allow duplicate values\n",
        "\n"
      ],
      "metadata": {
        "id": "O9LoyNCtCFAL"
      }
    },
    {
      "cell_type": "markdown",
      "source": [
        "we can see the type of the tuple like the following"
      ],
      "metadata": {
        "id": "y0cNd9PFCcTZ"
      }
    },
    {
      "cell_type": "code",
      "source": [
        "type(tuple_001)"
      ],
      "metadata": {
        "colab": {
          "base_uri": "https://localhost:8080/"
        },
        "id": "IUNd61mWBTX0",
        "outputId": "180c305e-de35-4c07-ac13-6b0659afead2"
      },
      "execution_count": null,
      "outputs": [
        {
          "output_type": "execute_result",
          "data": {
            "text/plain": [
              "tuple"
            ]
          },
          "metadata": {},
          "execution_count": 4
        }
      ]
    },
    {
      "cell_type": "markdown",
      "source": [
        "we can check if tuple with only one item is possible or not"
      ],
      "metadata": {
        "id": "VP-1uKtDCiaI"
      }
    },
    {
      "cell_type": "code",
      "source": [
        "tuple_002 = (2)"
      ],
      "metadata": {
        "id": "rky1dsAGCaSb"
      },
      "execution_count": null,
      "outputs": []
    },
    {
      "cell_type": "code",
      "source": [
        "tuple_002"
      ],
      "metadata": {
        "colab": {
          "base_uri": "https://localhost:8080/"
        },
        "id": "3_8VGcfdCrxI",
        "outputId": "f7554612-c95c-4625-f91c-e38ece3405fe"
      },
      "execution_count": null,
      "outputs": [
        {
          "output_type": "execute_result",
          "data": {
            "text/plain": [
              "2"
            ]
          },
          "metadata": {},
          "execution_count": 15
        }
      ]
    },
    {
      "cell_type": "code",
      "source": [
        "type(tuple_002)"
      ],
      "metadata": {
        "colab": {
          "base_uri": "https://localhost:8080/"
        },
        "id": "Ai8IzT7PCtNa",
        "outputId": "efad96f2-b01b-499b-bb4e-56eddc331837"
      },
      "execution_count": null,
      "outputs": [
        {
          "output_type": "execute_result",
          "data": {
            "text/plain": [
              "int"
            ]
          },
          "metadata": {},
          "execution_count": 16
        }
      ]
    },
    {
      "cell_type": "markdown",
      "source": [
        "so this shows that tuple with a single elements or items are impossible."
      ],
      "metadata": {
        "id": "ZJNIKkVgC3H4"
      }
    },
    {
      "cell_type": "markdown",
      "source": [
        "We can create tuples using the following two methods:\n",
        "\n",
        "\n",
        "1.   round brackets---->()\n",
        "2.   tuple constructor---->tuple()\n",
        "\n"
      ],
      "metadata": {
        "id": "SD0Es4PsD6_C"
      }
    },
    {
      "cell_type": "code",
      "source": [
        "#method one\n",
        "tuple_003 = (1,2,3,4,5)\n",
        "tuple_003"
      ],
      "metadata": {
        "colab": {
          "base_uri": "https://localhost:8080/"
        },
        "id": "RrJH3vuYD6kH",
        "outputId": "85758a8c-5194-46e7-df06-e52079787796"
      },
      "execution_count": null,
      "outputs": [
        {
          "output_type": "execute_result",
          "data": {
            "text/plain": [
              "(1, 2, 3, 4, 5)"
            ]
          },
          "metadata": {},
          "execution_count": 17
        }
      ]
    },
    {
      "cell_type": "code",
      "source": [
        "type(tuple_003)"
      ],
      "metadata": {
        "colab": {
          "base_uri": "https://localhost:8080/"
        },
        "id": "elOGJjTSD5IU",
        "outputId": "39b45734-ab8e-4483-ee3b-65ba2db98334"
      },
      "execution_count": null,
      "outputs": [
        {
          "output_type": "execute_result",
          "data": {
            "text/plain": [
              "tuple"
            ]
          },
          "metadata": {},
          "execution_count": 18
        }
      ]
    },
    {
      "cell_type": "code",
      "source": [
        "#method two : using tuple  constructor\n",
        "tuple_004 = tuple((1,2,3,4,5))\n",
        "tuple_004"
      ],
      "metadata": {
        "colab": {
          "base_uri": "https://localhost:8080/"
        },
        "id": "KaVLb5R-EPAH",
        "outputId": "0cbee64f-7c74-4649-e90f-311b5c2ec5b8"
      },
      "execution_count": null,
      "outputs": [
        {
          "output_type": "execute_result",
          "data": {
            "text/plain": [
              "(1, 2, 3, 4, 5)"
            ]
          },
          "metadata": {},
          "execution_count": 20
        }
      ]
    },
    {
      "cell_type": "code",
      "source": [
        "type(tuple_004)"
      ],
      "metadata": {
        "colab": {
          "base_uri": "https://localhost:8080/"
        },
        "id": "NQM7oCOxEYxO",
        "outputId": "5c594c34-0494-4bb7-d26e-f5e4ad33229c"
      },
      "execution_count": null,
      "outputs": [
        {
          "output_type": "execute_result",
          "data": {
            "text/plain": [
              "tuple"
            ]
          },
          "metadata": {},
          "execution_count": 21
        }
      ]
    },
    {
      "cell_type": "markdown",
      "source": [
        "We can access the tuples items or elements using the index referencing which is mentioning the index number in the square brackets like the following example"
      ],
      "metadata": {
        "id": "eCO1MVR-E-gy"
      }
    },
    {
      "cell_type": "code",
      "source": [
        "set_005 = tuple((1,2,3,4,5,6))\n",
        "set_005"
      ],
      "metadata": {
        "colab": {
          "base_uri": "https://localhost:8080/"
        },
        "id": "OnKST4ymEhft",
        "outputId": "1c0c92a9-b3e8-42df-c44b-08c6c33c671c"
      },
      "execution_count": null,
      "outputs": [
        {
          "output_type": "execute_result",
          "data": {
            "text/plain": [
              "(1, 2, 3, 4, 5, 6)"
            ]
          },
          "metadata": {},
          "execution_count": 22
        }
      ]
    },
    {
      "cell_type": "code",
      "source": [
        "#let us display the element at the first index which is at 0(zero) index\n",
        "set_005[0]"
      ],
      "metadata": {
        "colab": {
          "base_uri": "https://localhost:8080/"
        },
        "id": "y_DczdNgFUkS",
        "outputId": "6b4ba7f9-a644-4d1f-bf98-b5d91dbfe355"
      },
      "execution_count": null,
      "outputs": [
        {
          "output_type": "execute_result",
          "data": {
            "text/plain": [
              "1"
            ]
          },
          "metadata": {},
          "execution_count": 23
        }
      ]
    },
    {
      "cell_type": "markdown",
      "source": [
        "In python negative indexing is also possible:\n",
        "\n",
        "\n",
        "```\n",
        "The last items will be at the index of -1\n",
        "```\n",
        "let us proof it by example\n"
      ],
      "metadata": {
        "id": "BS-SIcxMFryQ"
      }
    },
    {
      "cell_type": "code",
      "source": [
        "tuple_006 = tuple((1,2,3,4,5,7))\n",
        "tuple_006"
      ],
      "metadata": {
        "colab": {
          "base_uri": "https://localhost:8080/"
        },
        "id": "bcwHd1keFcin",
        "outputId": "68a89f8a-5cd0-4422-ad46-04733ea7e001"
      },
      "execution_count": null,
      "outputs": [
        {
          "output_type": "execute_result",
          "data": {
            "text/plain": [
              "(1, 2, 3, 4, 5, 7)"
            ]
          },
          "metadata": {},
          "execution_count": 24
        }
      ]
    },
    {
      "cell_type": "code",
      "source": [
        "#we can display the last element using negative indexing\n",
        "tuple_006[-1]"
      ],
      "metadata": {
        "colab": {
          "base_uri": "https://localhost:8080/"
        },
        "id": "QZhMDn_QGBdW",
        "outputId": "eeada1e3-0633-4b69-8249-dfc1865daabc"
      },
      "execution_count": null,
      "outputs": [
        {
          "output_type": "execute_result",
          "data": {
            "text/plain": [
              "7"
            ]
          },
          "metadata": {},
          "execution_count": 25
        }
      ]
    },
    {
      "cell_type": "markdown",
      "source": [
        "In Python we can also use the range of indexes, by specifying where to start and where to stop."
      ],
      "metadata": {
        "id": "NyiC3SZeGjUp"
      }
    },
    {
      "cell_type": "code",
      "source": [
        "tuple_007 = tuple((1,2,3,4,5))\n",
        "tuple_007[1:4]"
      ],
      "metadata": {
        "colab": {
          "base_uri": "https://localhost:8080/"
        },
        "id": "zg11MghxGvTu",
        "outputId": "40751478-6abf-48b6-de87-bf006d0ac849"
      },
      "execution_count": null,
      "outputs": [
        {
          "output_type": "execute_result",
          "data": {
            "text/plain": [
              "(2, 3, 4)"
            ]
          },
          "metadata": {},
          "execution_count": 26
        }
      ]
    },
    {
      "cell_type": "markdown",
      "source": [
        "We can also use negative indexes ranging"
      ],
      "metadata": {
        "id": "fyT9geZIHX7R"
      }
    },
    {
      "cell_type": "code",
      "source": [
        "tuple_008 = tuple((1,23,4,4,5,6))\n",
        "tuple_008[-4:-1]"
      ],
      "metadata": {
        "colab": {
          "base_uri": "https://localhost:8080/"
        },
        "id": "aCEg0Uv3G0vl",
        "outputId": "f1e1b182-6798-4dc4-e49d-76f5c5c9bf51"
      },
      "execution_count": null,
      "outputs": [
        {
          "output_type": "execute_result",
          "data": {
            "text/plain": [
              "(4, 4, 5)"
            ]
          },
          "metadata": {},
          "execution_count": 27
        }
      ]
    },
    {
      "cell_type": "markdown",
      "source": [
        "We can check if the items exist in the tuple like the following example:"
      ],
      "metadata": {
        "id": "QZ3pTkqKHmlD"
      }
    },
    {
      "cell_type": "code",
      "source": [
        "tuple_009 = tuple((\"apple\",\"banana\"))\n",
        "if \"banana\" in tuple_009:\n",
        "  print(\"Yes, banana is there in the tuple_009\")"
      ],
      "metadata": {
        "colab": {
          "base_uri": "https://localhost:8080/"
        },
        "id": "_kV6GBZ8HhLZ",
        "outputId": "8245e77f-c084-4d15-86c8-47fd95fc607f"
      },
      "execution_count": null,
      "outputs": [
        {
          "output_type": "stream",
          "name": "stdout",
          "text": [
            "Yes, banana is there in the tuple_009\n"
          ]
        }
      ]
    },
    {
      "cell_type": "markdown",
      "source": [
        "Very interesting concepts: ---> as we know tuples are immutable which means we cant change the items once the tuple is created. but the is a workaround here, we can change the tuples into the list and edit or change the value needed to be changed and then change the list to tuple."
      ],
      "metadata": {
        "id": "uqFfBkgcJPrS"
      }
    },
    {
      "cell_type": "code",
      "source": [
        "tuple_001 = tuple((\"fitsum\",\"misrak\",\"selemon\"))"
      ],
      "metadata": {
        "id": "IagcZlz4IAgF"
      },
      "execution_count": null,
      "outputs": []
    },
    {
      "cell_type": "code",
      "source": [
        "#tuple_001[1]=\"chala\"---> this show the error becuase we can change the items directly"
      ],
      "metadata": {
        "id": "-MelAywBJvRN"
      },
      "execution_count": null,
      "outputs": []
    },
    {
      "cell_type": "code",
      "source": [
        "#change the tuples into the list\n",
        "list_001 = list(tuple_001)"
      ],
      "metadata": {
        "id": "ZK_jIqyqJyfJ"
      },
      "execution_count": null,
      "outputs": []
    },
    {
      "cell_type": "code",
      "source": [
        "#change the items you wants to see changed\n",
        "list_001[1]=\"chala\"\n",
        "tuple_001"
      ],
      "metadata": {
        "colab": {
          "base_uri": "https://localhost:8080/"
        },
        "id": "2WCvsZhsJ-9S",
        "outputId": "8a957135-4cf8-434f-fd78-1f9aba4cb153"
      },
      "execution_count": null,
      "outputs": [
        {
          "output_type": "execute_result",
          "data": {
            "text/plain": [
              "('fitsum', 'misrak', 'selemon')"
            ]
          },
          "metadata": {},
          "execution_count": 41
        }
      ]
    },
    {
      "cell_type": "code",
      "source": [
        "#now change the list back to the tuple and see the result\n",
        "tuple_001 = tuple(list_001)"
      ],
      "metadata": {
        "id": "GyroedaYKKxl"
      },
      "execution_count": null,
      "outputs": []
    },
    {
      "cell_type": "code",
      "source": [
        "tuple_001"
      ],
      "metadata": {
        "colab": {
          "base_uri": "https://localhost:8080/"
        },
        "id": "RkdO8GbcKTJ0",
        "outputId": "39052ebf-9c0b-4509-8be0-def62b05f1c9"
      },
      "execution_count": null,
      "outputs": [
        {
          "output_type": "execute_result",
          "data": {
            "text/plain": [
              "('fitsum', 'chala', 'selemon')"
            ]
          },
          "metadata": {},
          "execution_count": 43
        }
      ]
    },
    {
      "cell_type": "code",
      "source": [
        ""
      ],
      "metadata": {
        "id": "wECENLr-KUwv"
      },
      "execution_count": null,
      "outputs": []
    },
    {
      "cell_type": "markdown",
      "source": [
        "LOOP OVER TUPLES"
      ],
      "metadata": {
        "id": "H9f4f2OkRUan"
      }
    },
    {
      "cell_type": "code",
      "source": [
        "mytuple = (\"banana\",\"orange\",\"lemon\")\n",
        "print(mytuple)"
      ],
      "metadata": {
        "colab": {
          "base_uri": "https://localhost:8080/"
        },
        "id": "FYCUwsRRRX0A",
        "outputId": "3265771f-7d66-42ae-85a6-eedf107637ed"
      },
      "execution_count": 1,
      "outputs": [
        {
          "output_type": "stream",
          "name": "stdout",
          "text": [
            "('banana', 'orange', 'lemon')\n"
          ]
        }
      ]
    },
    {
      "cell_type": "code",
      "source": [
        "for i in range(len(mytuple)):\n",
        "  print(mytuple[i])"
      ],
      "metadata": {
        "colab": {
          "base_uri": "https://localhost:8080/"
        },
        "id": "C-aiBgCBRdLP",
        "outputId": "4ff54bae-961c-4518-b0c0-1425f5e9ae66"
      },
      "execution_count": 3,
      "outputs": [
        {
          "output_type": "stream",
          "name": "stdout",
          "text": [
            "banana\n",
            "orange\n",
            "lemon\n"
          ]
        }
      ]
    },
    {
      "cell_type": "code",
      "source": [
        ""
      ],
      "metadata": {
        "id": "YKIHlkVIRvlQ"
      },
      "execution_count": null,
      "outputs": []
    },
    {
      "cell_type": "markdown",
      "source": [
        "JOINING TWO TUPLES"
      ],
      "metadata": {
        "id": "mxLaxKEcR1Yf"
      }
    },
    {
      "cell_type": "code",
      "source": [
        "tuple01 = (\"fitsum\",\"misrak\",\"makida\")\n",
        "tuple02 = (\"fasil\",\"seble\",\"helen\")\n",
        "tuple_joined = tuple01+tuple02"
      ],
      "metadata": {
        "id": "AGcKZsMmR2-s"
      },
      "execution_count": 4,
      "outputs": []
    },
    {
      "cell_type": "code",
      "source": [
        "tuple_joined"
      ],
      "metadata": {
        "colab": {
          "base_uri": "https://localhost:8080/"
        },
        "id": "yBNYKduASEyO",
        "outputId": "75a89f31-492f-4c48-89ea-0449a55d9aa4"
      },
      "execution_count": 5,
      "outputs": [
        {
          "output_type": "execute_result",
          "data": {
            "text/plain": [
              "('fitsum', 'misrak', 'makida', 'fasil', 'seble', 'helen')"
            ]
          },
          "metadata": {},
          "execution_count": 5
        }
      ]
    },
    {
      "cell_type": "code",
      "source": [
        ""
      ],
      "metadata": {
        "id": "-VAlK5yKSGNX"
      },
      "execution_count": null,
      "outputs": []
    }
  ]
}