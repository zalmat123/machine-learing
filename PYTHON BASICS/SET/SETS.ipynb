{
  "nbformat": 4,
  "nbformat_minor": 0,
  "metadata": {
    "colab": {
      "name": "SETS",
      "provenance": [],
      "collapsed_sections": []
    },
    "kernelspec": {
      "name": "python3",
      "display_name": "Python 3"
    },
    "language_info": {
      "name": "python"
    }
  },
  "cells": [
    {
      "cell_type": "code",
      "source": [
        "\"\"\"\"This file contain basics of SET:\n",
        "    -Sets are used to store multiple items in a single variable.\n",
        "    -Set is one of 4 built-in data types in Python used to store collections of data.\n",
        "    -A set is a collection which is unordered, unchangeable*, and unindexed.\n",
        "    -Sets are written with curly brackets.\n",
        "NB: Set items are unchangeable, but you can remove items and add new items.\n",
        "\"\"\"\n",
        "set01 = {\"fitsum\",\"misrak\",\"solomon\",\"dawit\"}\n",
        "print(set01)\n"
      ],
      "metadata": {
        "colab": {
          "base_uri": "https://localhost:8080/"
        },
        "id": "BVGhnd_IjbbI",
        "outputId": "e138d3f4-8910-4abe-8894-b63bf049ab4b"
      },
      "execution_count": 1,
      "outputs": [
        {
          "output_type": "stream",
          "name": "stdout",
          "text": [
            "{'fitsum', 'solomon', 'dawit', 'misrak'}\n"
          ]
        }
      ]
    },
    {
      "cell_type": "code",
      "source": [
        "\"\"\"Note: Sets are unordered, so you cannot be sure in which order the items will appear.\"\"\"\n",
        "\"\"\"Set items are unordered, unchangeable, and do not allow duplicate values.\n",
        "Unordered:\n",
        "    -Unordered means that the items in a set do not have a defined order.\n",
        "    -Set items can appear in a different order every time you use them, and cannot be referred to by index or key.\n",
        "Unchangeable:\n",
        "    -Set items are unchangeable, meaning that we cannot change the items after the set has been created.\n",
        "    -Once a set is created, you cannot change its items, but you can remove items and add new items.\n",
        "\"\"\"\n",
        "#Get the length of the set\n",
        "print(\"The size of the set: \",len(set01))\n",
        "\n",
        "#Get the datatype\n",
        "print(\"The data types of the set will be displayed like: \",type(set01))\n"
      ],
      "metadata": {
        "colab": {
          "base_uri": "https://localhost:8080/"
        },
        "id": "MwWfIJL7jd_W",
        "outputId": "53bf3fab-35d3-41f5-d1d6-5cb65962c5cd"
      },
      "execution_count": 2,
      "outputs": [
        {
          "output_type": "stream",
          "name": "stdout",
          "text": [
            "The size of the set:  4\n",
            "The data types of the set will be displayed like:  <class 'set'>\n"
          ]
        }
      ]
    },
    {
      "cell_type": "code",
      "source": [
        "\"\"\"\n",
        "The set() Constructor\n",
        "It is also possible to use the set() constructor to make a set. we have to use double rounded bracket in the set\n",
        "\"\"\"\n",
        "print(\"\\n\\n\\n\")\n",
        "set02 = set((\"selemon\",\"misrak\",\"dawit\",\"fitsum\"))\n",
        "print(set02)"
      ],
      "metadata": {
        "colab": {
          "base_uri": "https://localhost:8080/"
        },
        "id": "OnKJB31fjpig",
        "outputId": "591d5e85-ee9e-400b-9e31-5c6386dedbca"
      },
      "execution_count": 3,
      "outputs": [
        {
          "output_type": "stream",
          "name": "stdout",
          "text": [
            "\n",
            "\n",
            "\n",
            "\n",
            "{'selemon', 'fitsum', 'dawit', 'misrak'}\n"
          ]
        }
      ]
    },
    {
      "cell_type": "code",
      "source": [
        "\"\"\"\n",
        "Python Collections (Arrays):\n",
        "    \n",
        "There are four collection data types in the Python programming language:\n",
        "\n",
        "List is a collection which is ordered and changeable.\n",
        "Allows duplicate members.\n",
        "\n",
        "Tuple is a collection which is ordered and unchangeable. \n",
        "Allows duplicate members.\n",
        "\n",
        "Set is a collection which is unordered, unchangeable*, and unindexed. \n",
        "No duplicate members.\n",
        "\n",
        "Dictionary is a collection which is ordered** and changeable.\n",
        "No duplicate members.\n",
        "\n",
        "\n",
        "Access Items\n",
        "You cannot access items in a set by referring to an index or a key.\n",
        "But you can loop through the set items using a for loop, or ask if a specified value is present in a set, by using the in keyword.\n",
        "\"\"\"\n",
        "\n",
        "set03 = set((\"selemon\",\"misrak\",\"dawit\",\"fitsum\"))\n",
        "for x in set03:\n",
        "    print(x)\n",
        "\n",
        "print(\"\\n\\n\\n\")"
      ],
      "metadata": {
        "colab": {
          "base_uri": "https://localhost:8080/"
        },
        "id": "4-uTOjW3jyLk",
        "outputId": "1d89bf46-e0f9-476c-eba7-170e98318d88"
      },
      "execution_count": 4,
      "outputs": [
        {
          "output_type": "stream",
          "name": "stdout",
          "text": [
            "selemon\n",
            "fitsum\n",
            "dawit\n",
            "misrak\n",
            "\n",
            "\n",
            "\n",
            "\n"
          ]
        }
      ]
    },
    {
      "cell_type": "code",
      "source": [
        "\"\"\"\n",
        "Change Items\n",
        "Once a set is created, you cannot change its items, \n",
        "but you can add new items.\n",
        "\n",
        "\n",
        "1. To add one item to a set use the add() method.\n",
        "\"\"\"\n",
        "set04 = {1,2,3,4}\n",
        "print(set04)\n",
        "set04.add(5)\n",
        "print(set04)\n"
      ],
      "metadata": {
        "colab": {
          "base_uri": "https://localhost:8080/"
        },
        "id": "LImGNyQkj4O-",
        "outputId": "73be1282-be41-453a-8d24-6e8c97b59326"
      },
      "execution_count": 5,
      "outputs": [
        {
          "output_type": "stream",
          "name": "stdout",
          "text": [
            "{1, 2, 3, 4}\n",
            "{1, 2, 3, 4, 5}\n"
          ]
        }
      ]
    },
    {
      "cell_type": "code",
      "source": [
        "\n",
        "\"\"\"\n",
        "Add Sets:\n",
        "To add items from another set into the current set, \n",
        "use the update() method.\n",
        "\"\"\"\n",
        "print(\"\\n\\n\\n\")\n",
        "set05 = {1,2,3,4}\n",
        "print(set05)\n",
        "\n",
        "set06 = {6,7,8,9}\n",
        "set05.update(set06)\n",
        "print(set05)\n"
      ],
      "metadata": {
        "colab": {
          "base_uri": "https://localhost:8080/"
        },
        "id": "KpHP5r5tj-Lk",
        "outputId": "ff3d2e90-6869-465f-f947-48c690d83efa"
      },
      "execution_count": 6,
      "outputs": [
        {
          "output_type": "stream",
          "name": "stdout",
          "text": [
            "\n",
            "\n",
            "\n",
            "\n",
            "{1, 2, 3, 4}\n",
            "{1, 2, 3, 4, 6, 7, 8, 9}\n"
          ]
        }
      ]
    },
    {
      "cell_type": "code",
      "source": [
        "\"\"\"\n",
        "Add Any Iterable\n",
        "The object in the update() method does not have to be a set, \n",
        "it can be any iterable object (tuples, lists, dictionaries etc.).\n",
        "\"\"\"\n",
        "print(\"\\n\\n\\n\")\n",
        "set07 ={1,2,3,4}\n",
        "list01 = [9,8,7,5]\n",
        "set07.update(list01)\n",
        "print(set07)"
      ],
      "metadata": {
        "colab": {
          "base_uri": "https://localhost:8080/"
        },
        "id": "DONIQy3kkEHu",
        "outputId": "072f6e81-d8c8-41f1-94d0-9e9f262bcfc3"
      },
      "execution_count": 7,
      "outputs": [
        {
          "output_type": "stream",
          "name": "stdout",
          "text": [
            "\n",
            "\n",
            "\n",
            "\n",
            "{1, 2, 3, 4, 5, 7, 8, 9}\n"
          ]
        }
      ]
    },
    {
      "cell_type": "code",
      "source": [
        "\n",
        "\"\"\"\n",
        "Remove Item\n",
        "To remove an item in a set, use the remove(), or the discard() method.\n",
        "\"\"\"\n",
        "\n",
        "set08 = {'apple','orange','pineapple','lemon'}\n",
        "print(set08)\n",
        "set08.remove('apple')\n",
        "print(set08)\n",
        "set08.discard('pineapple')\n",
        "print(set08)"
      ],
      "metadata": {
        "colab": {
          "base_uri": "https://localhost:8080/"
        },
        "id": "0LzapJzXkIbB",
        "outputId": "cd45ad9f-de67-4687-db47-a5988844d3b8"
      },
      "execution_count": 8,
      "outputs": [
        {
          "output_type": "stream",
          "name": "stdout",
          "text": [
            "{'apple', 'orange', 'lemon', 'pineapple'}\n",
            "{'orange', 'lemon', 'pineapple'}\n",
            "{'orange', 'lemon'}\n"
          ]
        }
      ]
    },
    {
      "cell_type": "code",
      "source": [
        "\n",
        "\"\"\"\n",
        "Note: If the item to remove does not exist, remove() will raise an error.\n",
        "Note: If the item to remove does not exist, discard() will NOT raise an error.\n",
        "\n",
        "\n",
        "You can also use the pop() method to remove an item, \n",
        "but this method will remove the last item. \n",
        "Remember that sets are unordered, \n",
        "so you will not know what item that gets removed.\n",
        "\n",
        "The return value of the pop() method is the removed item.\n",
        "\"\"\"\n",
        "print(\"\\n\\n\\n\")\n",
        "set09 = {\"apple\",\"orange\",\"lemon\",\"pineapple\"}\n",
        "print(set09)\n",
        "set09.pop()\n",
        "print(set09)\n",
        "print(set09.pop())\n",
        "print(set09)\n"
      ],
      "metadata": {
        "colab": {
          "base_uri": "https://localhost:8080/"
        },
        "id": "-jjO3m2AkPEy",
        "outputId": "5ae1f798-9c87-4c06-b6e4-f064a9121dac"
      },
      "execution_count": 9,
      "outputs": [
        {
          "output_type": "stream",
          "name": "stdout",
          "text": [
            "\n",
            "\n",
            "\n",
            "\n",
            "{'apple', 'orange', 'lemon', 'pineapple'}\n",
            "{'orange', 'lemon', 'pineapple'}\n",
            "orange\n",
            "{'lemon', 'pineapple'}\n"
          ]
        }
      ]
    },
    {
      "cell_type": "code",
      "source": [
        "\n",
        "\"\"\"\n",
        "The del keyword will delete the set completely:\n",
        "\"\"\"\n",
        "thisset = {\"apple\", \"banana\", \"cherry\"}\n",
        "print(thisset)\n",
        "del thisset\n",
        "#print(thisset) --->this shows error\n"
      ],
      "metadata": {
        "colab": {
          "base_uri": "https://localhost:8080/"
        },
        "id": "5qyg3XrakSWd",
        "outputId": "ee068c65-315e-4ba1-99aa-7d96f1be732f"
      },
      "execution_count": 10,
      "outputs": [
        {
          "output_type": "stream",
          "name": "stdout",
          "text": [
            "{'apple', 'banana', 'cherry'}\n"
          ]
        }
      ]
    },
    {
      "cell_type": "code",
      "source": [
        "\n",
        "\"\"\"\n",
        "Join Two Sets\n",
        "There are several ways to join two or more sets in Python.\n",
        "\n",
        "You can use the union() \n",
        "method that returns a new set containing all items from both sets,\n",
        "the update() method that inserts all the items from one set into another:\n",
        "\"\"\"\n",
        "\n",
        "set10 = {\"fitsum\",\"misrak\",\"selemon\"}\n",
        "set11 = {'misrak','chere'}\n",
        "set12 = set10.union(set11)\n",
        "print(set12)\n",
        "set10.update(set11)\n",
        "print(set10)"
      ],
      "metadata": {
        "colab": {
          "base_uri": "https://localhost:8080/"
        },
        "id": "Zv2GJ8mlkWKB",
        "outputId": "1dca4d4f-66ab-4d97-a4c0-4f3224b5f7ee"
      },
      "execution_count": 11,
      "outputs": [
        {
          "output_type": "stream",
          "name": "stdout",
          "text": [
            "{'selemon', 'fitsum', 'chere', 'misrak'}\n",
            "{'selemon', 'fitsum', 'chere', 'misrak'}\n"
          ]
        }
      ]
    },
    {
      "cell_type": "code",
      "source": [
        "\n",
        "\"\"\"\n",
        "Note: Both union() and update() will exclude any duplicate items.\n",
        "\n",
        "Keep ONLY the Duplicates:\n",
        "\n",
        "The intersection_update() method will keep only the items \n",
        "that are present in both sets.\n",
        "\"\"\"\n",
        "set14 = {'misrak','chernet','fitsum','dawit'}\n",
        "set15 = {'misrak','richo','fitsum','seble'}\n",
        "set16 = set14.intersection(set15)\n",
        "set14.intersection_update(set15)\n",
        "print(set14)\n",
        "print(set16)\n"
      ],
      "metadata": {
        "colab": {
          "base_uri": "https://localhost:8080/"
        },
        "id": "hhVU-2z2kY8c",
        "outputId": "663c018c-03a2-4807-fece-649e50a8d486"
      },
      "execution_count": 12,
      "outputs": [
        {
          "output_type": "stream",
          "name": "stdout",
          "text": [
            "{'fitsum', 'misrak'}\n",
            "{'fitsum', 'misrak'}\n"
          ]
        }
      ]
    },
    {
      "cell_type": "markdown",
      "source": [
        "Keep All, But NOT the Duplicates\n",
        "The symmetric_difference_update() method will keep only the elements \n",
        "that are NOT present in both sets.\n"
      ],
      "metadata": {
        "id": "jQzN4r9ZkgdN"
      }
    },
    {
      "cell_type": "code",
      "source": [
        "\n",
        "set20 = {'misrak','fitsum','chere','chala'}\n",
        "set21 = {'misrak','selemon','dawit'}"
      ],
      "metadata": {
        "id": "xzZ5WSewkce4"
      },
      "execution_count": 13,
      "outputs": []
    },
    {
      "cell_type": "code",
      "source": [
        "set20.symmetric_difference_update(set21)"
      ],
      "metadata": {
        "id": "hEVsOqJVkwfw"
      },
      "execution_count": 15,
      "outputs": []
    },
    {
      "cell_type": "code",
      "source": [
        "set20"
      ],
      "metadata": {
        "colab": {
          "base_uri": "https://localhost:8080/"
        },
        "id": "40T8aNN9k2Ai",
        "outputId": "96e08f1f-1c6a-45ae-c919-357b0c09201f"
      },
      "execution_count": 16,
      "outputs": [
        {
          "output_type": "execute_result",
          "data": {
            "text/plain": [
              "{'chala', 'chere', 'dawit', 'fitsum', 'selemon'}"
            ]
          },
          "metadata": {},
          "execution_count": 16
        }
      ]
    },
    {
      "cell_type": "code",
      "source": [
        ""
      ],
      "metadata": {
        "id": "x60a2-cMk211"
      },
      "execution_count": null,
      "outputs": []
    },
    {
      "cell_type": "markdown",
      "source": [
        "intersection() method will return a new set which contain the common items for both sets."
      ],
      "metadata": {
        "id": "1hdLIrf8vVB2"
      }
    },
    {
      "cell_type": "code",
      "source": [
        "set30 = {'fitsum','misrak','chala','dawit'}\n",
        "set31 = {'fitsum','misrak','seble'}\n",
        "set32 = set30.intersection(set31)"
      ],
      "metadata": {
        "id": "nZU3gQcgvdeG"
      },
      "execution_count": 21,
      "outputs": []
    },
    {
      "cell_type": "code",
      "source": [
        "set32"
      ],
      "metadata": {
        "colab": {
          "base_uri": "https://localhost:8080/"
        },
        "id": "W2T8aRZlvs_e",
        "outputId": "f880ddb3-f40b-488e-aac0-daa6e014e512"
      },
      "execution_count": 22,
      "outputs": [
        {
          "output_type": "execute_result",
          "data": {
            "text/plain": [
              "{'fitsum', 'misrak'}"
            ]
          },
          "metadata": {},
          "execution_count": 22
        }
      ]
    },
    {
      "cell_type": "code",
      "source": [
        "set31.issubset(set30)"
      ],
      "metadata": {
        "colab": {
          "base_uri": "https://localhost:8080/"
        },
        "id": "FPARILT-vt7z",
        "outputId": "d241bf75-265a-43fd-c37d-8bf11756ee7c"
      },
      "execution_count": 23,
      "outputs": [
        {
          "output_type": "execute_result",
          "data": {
            "text/plain": [
              "False"
            ]
          },
          "metadata": {},
          "execution_count": 23
        }
      ]
    },
    {
      "cell_type": "code",
      "source": [
        "set31.isdisjoint(set30)"
      ],
      "metadata": {
        "colab": {
          "base_uri": "https://localhost:8080/"
        },
        "id": "oDBtNhtiv6WA",
        "outputId": "dcc7a8bf-0991-438d-c779-c9ec6459c97b"
      },
      "execution_count": 24,
      "outputs": [
        {
          "output_type": "execute_result",
          "data": {
            "text/plain": [
              "False"
            ]
          },
          "metadata": {},
          "execution_count": 24
        }
      ]
    },
    {
      "cell_type": "code",
      "source": [
        ""
      ],
      "metadata": {
        "id": "QcbxSadrwEO8"
      },
      "execution_count": null,
      "outputs": []
    }
  ]
}